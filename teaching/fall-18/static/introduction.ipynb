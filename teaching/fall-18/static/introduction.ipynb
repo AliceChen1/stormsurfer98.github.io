{
 "cells": [
  {
   "cell_type": "code",
   "execution_count": 1,
   "metadata": {},
   "outputs": [],
   "source": [
    "# Applied Machine Learning (HOUSECS 59-03)\n",
    "# Fall 2018, Duke University\n",
    "# Introduction to Machine Learning and Python"
   ]
  },
  {
   "cell_type": "markdown",
   "metadata": {},
   "source": [
    "There are seven major libraries we will be using throughout the course: NumPy, SciPy, Pandas, Matplotlib, SciKit, TensorFlow, and NLTK. We will primarily be using Jupyter notebooks, Python 3.x, and a Conda environment. If Python 3.x is not already installed on your system, follow the instructions at https://www.python.org/downloads. You can also check the version of Python you are running using `python --version` or `python3 --version`.\n",
    "\n",
    "After you have verified that you have Python 3.x on your system, please install Jupyter (http://jupyter.org/install):\n",
    "```\n",
    "python3 -m pip install --upgrade pip\n",
    "python3 -m pip install jupyter\n",
    "```\n",
    "\n",
    "You can open Jupyter with the command `jupyter notebook`, and a visual interface will open up, allowing you to create and navigate between notebooks like this one!\n",
    "\n",
    "The next step is to install Conda, which will allow you to create environments to run your code (and notebooks) in. Follow the instructions at https://conda.io/docs/user-guide/install to install Conda.\n",
    "\n",
    "We will be loading our Conda environment from a file. Copy and paste the code below into a file named `environment.yml`, and navigate to the containing folder.\n",
    "\n",
    "```\n",
    "name: applied-ml\n",
    "dependencies:\n",
    "  - numpy\n",
    "  - scipy\n",
    "  - pandas\n",
    "  - matplotlib\n",
    "  - scikit-learn\n",
    "  - tensorflow\n",
    "  - nltk\n",
    "```\n",
    "\n",
    "Then, create the Conda environment using the command `conda env create`. You can now activate your environment using the command `source activate applied-ml`. Once you are in the environment, run the command `conda install jupyter notebook` so that you can be in the environment when using a Jupyter notebook.\n",
    "\n",
    "**You should only run framework-dependent code, and cells in your Jupyter notebook, from your environment instance.** Shut down Jupyter and run `jupyter notebook` again from within the environment. You can deactivate your environment by running `source deactivate`. More information about managing a Conda environment can be found at https://conda.io/docs. If you have correctly downloaded the required frameworks and are in your Conda environment, the following cell should run without error."
   ]
  },
  {
   "cell_type": "code",
   "execution_count": 2,
   "metadata": {},
   "outputs": [],
   "source": [
    "import numpy # http://www.numpy.org\n",
    "import scipy # https://www.scipy.org\n",
    "import pandas # https://pandas.pydata.org\n",
    "import matplotlib # https://matplotlib.org\n",
    "import sklearn # http://scikit-learn.org/stable\n",
    "import tensorflow # https://www.tensorflow.org\n",
    "import nltk # https://www.nltk.org"
   ]
  },
  {
   "cell_type": "markdown",
   "metadata": {},
   "source": [
    "That's all! Make sure to activate your Conda environment before running any framework-dependent code.\n",
    "\n",
    "Python is also a crucial aspect of this course. Basic fluency in programming is a pre-requisite for the course; however, you may not necessarily be familiar with Python. If that is the case, I **strongly suggest** completing the basics and data science tutorials on https://www.learnpython.org. It should only take an hour or two! This should give you enough background for the course."
   ]
  }
 ],
 "metadata": {
  "kernelspec": {
   "display_name": "Python 3",
   "language": "python",
   "name": "python3"
  },
  "language_info": {
   "codemirror_mode": {
    "name": "ipython",
    "version": 3
   },
   "file_extension": ".py",
   "mimetype": "text/x-python",
   "name": "python",
   "nbconvert_exporter": "python",
   "pygments_lexer": "ipython3",
   "version": "3.6.6"
  }
 },
 "nbformat": 4,
 "nbformat_minor": 2
}
