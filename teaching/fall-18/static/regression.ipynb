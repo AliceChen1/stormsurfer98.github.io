{
 "cells": [
  {
   "cell_type": "code",
   "execution_count": 1,
   "metadata": {},
   "outputs": [],
   "source": [
    "# Applied Machine Learning (HOUSECS 59-03)\n",
    "# Fall 2018, Duke University\n",
    "# Splines and Linear and Polynomial Regression"
   ]
  },
  {
   "cell_type": "code",
   "execution_count": 2,
   "metadata": {},
   "outputs": [],
   "source": [
    "import sklearn\n",
    "import numpy as np\n",
    "import pandas as pd\n",
    "import matplotlib.pyplot as plt\n",
    "from sklearn import datasets, linear_model"
   ]
  },
  {
   "cell_type": "markdown",
   "metadata": {},
   "source": [
    "Let's begin by exploring a dataset that looks at housing prices in Boston: load the data into a Pandas dataframe, and plot it with respect to a single feature, RM (average number of rooms per dwelling)."
   ]
  },
  {
   "cell_type": "code",
   "execution_count": 3,
   "metadata": {},
   "outputs": [
    {
     "name": "stdout",
     "output_type": "stream",
     "text": [
      "Boston House Prices dataset\n",
      "===========================\n",
      "\n",
      "Notes\n",
      "------\n",
      "Data Set Characteristics:  \n",
      "\n",
      "    :Number of Instances: 506 \n",
      "\n",
      "    :Number of Attributes: 13 numeric/categorical predictive\n",
      "    \n",
      "    :Median Value (attribute 14) is usually the target\n",
      "\n",
      "    :Attribute Information (in order):\n",
      "        - CRIM     per capita crime rate by town\n",
      "        - ZN       proportion of residential land zoned for lots over 25,000 sq.ft.\n",
      "        - INDUS    proportion of non-retail business acres per town\n",
      "        - CHAS     Charles River dummy variable (= 1 if tract bounds river; 0 otherwise)\n",
      "        - NOX      nitric oxides concentration (parts per 10 million)\n",
      "        - RM       average number of rooms per dwelling\n",
      "        - AGE      proportion of owner-occupied units built prior to 1940\n",
      "        - DIS      weighted distances to five Boston employment centres\n",
      "        - RAD      index of accessibility to radial highways\n",
      "        - TAX      full-value property-tax rate per $10,000\n",
      "        - PTRATIO  pupil-teacher ratio by town\n",
      "        - B        1000(Bk - 0.63)^2 where Bk is the proportion of blacks by town\n",
      "        - LSTAT    % lower status of the population\n",
      "        - MEDV     Median value of owner-occupied homes in $1000's\n",
      "\n",
      "    :Missing Attribute Values: None\n",
      "\n",
      "    :Creator: Harrison, D. and Rubinfeld, D.L.\n",
      "\n",
      "This is a copy of UCI ML housing dataset.\n",
      "http://archive.ics.uci.edu/ml/datasets/Housing\n",
      "\n",
      "\n",
      "This dataset was taken from the StatLib library which is maintained at Carnegie Mellon University.\n",
      "\n",
      "The Boston house-price data of Harrison, D. and Rubinfeld, D.L. 'Hedonic\n",
      "prices and the demand for clean air', J. Environ. Economics & Management,\n",
      "vol.5, 81-102, 1978.   Used in Belsley, Kuh & Welsch, 'Regression diagnostics\n",
      "...', Wiley, 1980.   N.B. Various transformations are used in the table on\n",
      "pages 244-261 of the latter.\n",
      "\n",
      "The Boston house-price data has been used in many machine learning papers that address regression\n",
      "problems.   \n",
      "     \n",
      "**References**\n",
      "\n",
      "   - Belsley, Kuh & Welsch, 'Regression diagnostics: Identifying Influential Data and Sources of Collinearity', Wiley, 1980. 244-261.\n",
      "   - Quinlan,R. (1993). Combining Instance-Based and Model-Based Learning. In Proceedings on the Tenth International Conference of Machine Learning, 236-243, University of Massachusetts, Amherst. Morgan Kaufmann.\n",
      "   - many more! (see http://archive.ics.uci.edu/ml/datasets/Housing)\n",
      "\n"
     ]
    }
   ],
   "source": [
    "# load dataset\n",
    "boston = datasets.load_boston()\n",
    "print(boston[\"DESCR\"])"
   ]
  },
  {
   "cell_type": "code",
   "execution_count": 4,
   "metadata": {},
   "outputs": [
    {
     "data": {
      "text/html": [
       "<div>\n",
       "<style scoped>\n",
       "    .dataframe tbody tr th:only-of-type {\n",
       "        vertical-align: middle;\n",
       "    }\n",
       "\n",
       "    .dataframe tbody tr th {\n",
       "        vertical-align: top;\n",
       "    }\n",
       "\n",
       "    .dataframe thead th {\n",
       "        text-align: right;\n",
       "    }\n",
       "</style>\n",
       "<table border=\"1\" class=\"dataframe\">\n",
       "  <thead>\n",
       "    <tr style=\"text-align: right;\">\n",
       "      <th></th>\n",
       "      <th>CRIM</th>\n",
       "      <th>ZN</th>\n",
       "      <th>INDUS</th>\n",
       "      <th>CHAS</th>\n",
       "      <th>NOX</th>\n",
       "      <th>RM</th>\n",
       "      <th>AGE</th>\n",
       "      <th>DIS</th>\n",
       "      <th>RAD</th>\n",
       "      <th>TAX</th>\n",
       "      <th>PTRATIO</th>\n",
       "      <th>B</th>\n",
       "      <th>LSTAT</th>\n",
       "      <th>MEDV</th>\n",
       "    </tr>\n",
       "  </thead>\n",
       "  <tbody>\n",
       "    <tr>\n",
       "      <th>0</th>\n",
       "      <td>0.00632</td>\n",
       "      <td>18.0</td>\n",
       "      <td>2.31</td>\n",
       "      <td>0.0</td>\n",
       "      <td>0.538</td>\n",
       "      <td>6.575</td>\n",
       "      <td>65.2</td>\n",
       "      <td>4.0900</td>\n",
       "      <td>1.0</td>\n",
       "      <td>296.0</td>\n",
       "      <td>15.3</td>\n",
       "      <td>396.90</td>\n",
       "      <td>4.98</td>\n",
       "      <td>24.0</td>\n",
       "    </tr>\n",
       "    <tr>\n",
       "      <th>1</th>\n",
       "      <td>0.02731</td>\n",
       "      <td>0.0</td>\n",
       "      <td>7.07</td>\n",
       "      <td>0.0</td>\n",
       "      <td>0.469</td>\n",
       "      <td>6.421</td>\n",
       "      <td>78.9</td>\n",
       "      <td>4.9671</td>\n",
       "      <td>2.0</td>\n",
       "      <td>242.0</td>\n",
       "      <td>17.8</td>\n",
       "      <td>396.90</td>\n",
       "      <td>9.14</td>\n",
       "      <td>21.6</td>\n",
       "    </tr>\n",
       "    <tr>\n",
       "      <th>2</th>\n",
       "      <td>0.02729</td>\n",
       "      <td>0.0</td>\n",
       "      <td>7.07</td>\n",
       "      <td>0.0</td>\n",
       "      <td>0.469</td>\n",
       "      <td>7.185</td>\n",
       "      <td>61.1</td>\n",
       "      <td>4.9671</td>\n",
       "      <td>2.0</td>\n",
       "      <td>242.0</td>\n",
       "      <td>17.8</td>\n",
       "      <td>392.83</td>\n",
       "      <td>4.03</td>\n",
       "      <td>34.7</td>\n",
       "    </tr>\n",
       "    <tr>\n",
       "      <th>3</th>\n",
       "      <td>0.03237</td>\n",
       "      <td>0.0</td>\n",
       "      <td>2.18</td>\n",
       "      <td>0.0</td>\n",
       "      <td>0.458</td>\n",
       "      <td>6.998</td>\n",
       "      <td>45.8</td>\n",
       "      <td>6.0622</td>\n",
       "      <td>3.0</td>\n",
       "      <td>222.0</td>\n",
       "      <td>18.7</td>\n",
       "      <td>394.63</td>\n",
       "      <td>2.94</td>\n",
       "      <td>33.4</td>\n",
       "    </tr>\n",
       "    <tr>\n",
       "      <th>4</th>\n",
       "      <td>0.06905</td>\n",
       "      <td>0.0</td>\n",
       "      <td>2.18</td>\n",
       "      <td>0.0</td>\n",
       "      <td>0.458</td>\n",
       "      <td>7.147</td>\n",
       "      <td>54.2</td>\n",
       "      <td>6.0622</td>\n",
       "      <td>3.0</td>\n",
       "      <td>222.0</td>\n",
       "      <td>18.7</td>\n",
       "      <td>396.90</td>\n",
       "      <td>5.33</td>\n",
       "      <td>36.2</td>\n",
       "    </tr>\n",
       "  </tbody>\n",
       "</table>\n",
       "</div>"
      ],
      "text/plain": [
       "      CRIM    ZN  INDUS  CHAS    NOX     RM   AGE     DIS  RAD    TAX  \\\n",
       "0  0.00632  18.0   2.31   0.0  0.538  6.575  65.2  4.0900  1.0  296.0   \n",
       "1  0.02731   0.0   7.07   0.0  0.469  6.421  78.9  4.9671  2.0  242.0   \n",
       "2  0.02729   0.0   7.07   0.0  0.469  7.185  61.1  4.9671  2.0  242.0   \n",
       "3  0.03237   0.0   2.18   0.0  0.458  6.998  45.8  6.0622  3.0  222.0   \n",
       "4  0.06905   0.0   2.18   0.0  0.458  7.147  54.2  6.0622  3.0  222.0   \n",
       "\n",
       "   PTRATIO       B  LSTAT  MEDV  \n",
       "0     15.3  396.90   4.98  24.0  \n",
       "1     17.8  396.90   9.14  21.6  \n",
       "2     17.8  392.83   4.03  34.7  \n",
       "3     18.7  394.63   2.94  33.4  \n",
       "4     18.7  396.90   5.33  36.2  "
      ]
     },
     "execution_count": 4,
     "metadata": {},
     "output_type": "execute_result"
    }
   ],
   "source": [
    "df = pd.DataFrame(data=boston.data, columns=boston.feature_names)\n",
    "df[\"MEDV\"] = boston.target\n",
    "df.head()"
   ]
  },
  {
   "cell_type": "code",
   "execution_count": 5,
   "metadata": {},
   "outputs": [
    {
     "data": {
      "text/plain": [
       "<matplotlib.collections.PathCollection at 0x1a1b429d30>"
      ]
     },
     "execution_count": 5,
     "metadata": {},
     "output_type": "execute_result"
    },
    {
     "data": {
      "image/png": "[encoded data removed]",
      "text/plain": [
       "<Figure size 432x288 with 1 Axes>"
      ]
     },
     "metadata": {},
     "output_type": "display_data"
    }
   ],
   "source": [
    "# plot RM vs. MEDV\n",
    "plt.scatter(df[\"RM\"], df[\"MEDV\"], color=\"black\")"
   ]
  },
  {
   "cell_type": "markdown",
   "metadata": {},
   "source": [
    "---\n",
    "We can create a simple linear regression model that takes a single feature (RM) as input to predict the value of a home (MEDV). We can use the first 300 points as training, and test on the remaining 206, making sure to normalize first. Take a look at the mean squared error (MSE) and coefficient(s) for the feature(s), and a plot of how we did with respect to RM."
   ]
  },
  {
   "cell_type": "code",
   "execution_count": 6,
   "metadata": {},
   "outputs": [
    {
     "data": {
      "text/plain": [
       "LinearRegression(copy_X=True, fit_intercept=True, n_jobs=1, normalize=True)"
      ]
     },
     "execution_count": 6,
     "metadata": {},
     "output_type": "execute_result"
    }
   ],
   "source": [
    "# create and fit simple model\n",
    "simple_regr = sklearn.linear_model.LinearRegression(normalize=True)\n",
    "simple_regr.fit(df.loc[:299, [\"RM\"]], df.loc[:299, \"MEDV\"])"
   ]
  },
  {
   "cell_type": "code",
   "execution_count": 7,
   "metadata": {},
   "outputs": [
    {
     "name": "stdout",
     "output_type": "stream",
     "text": [
      "mean squared error 95.71748442676873\n",
      "coefficients [11.30440747]\n"
     ]
    }
   ],
   "source": [
    "# predict model\n",
    "simple_pred = simple_regr.predict(df.loc[300:, [\"RM\"]])\n",
    "print(\"mean squared error\", sklearn.metrics.mean_squared_error(simple_pred, df.loc[300:, \"MEDV\"]))\n",
    "print(\"coefficients\", simple_regr.coef_)"
   ]
  },
  {
   "cell_type": "code",
   "execution_count": 8,
   "metadata": {},
   "outputs": [
    {
     "data": {
      "text/plain": [
       "<matplotlib.collections.PathCollection at 0x1a1b480978>"
      ]
     },
     "execution_count": 8,
     "metadata": {},
     "output_type": "execute_result"
    },
    {
     "data": {
      "image/png": "[encoded data removed]",
      "text/plain": [
       "<Figure size 432x288 with 1 Axes>"
      ]
     },
     "metadata": {},
     "output_type": "display_data"
    }
   ],
   "source": [
    "# plot predictions\n",
    "plt.scatter(df.loc[300:, [\"RM\"]], df.loc[300:, \"MEDV\"], color=\"black\") # true labels\n",
    "plt.scatter(df.loc[300:, [\"RM\"]], simple_pred, color=\"blue\") # predictions"
   ]
  },
  {
   "cell_type": "markdown",
   "metadata": {},
   "source": [
    "---\n",
    "Let's try using all of the features available as input to predict the value of a home (MEDV). Again, we can use the first 300 points as training, and test on the remaining 206, making sure to normalize first. Take a look at the mean squared error (MSE) and coefficient(s) for the feature(s), and a plot of how we did with respect to RM. Notice how the \"straight line\" disappears, since the predictions are linearly correlated with features in addition to RM in the model."
   ]
  },
  {
   "cell_type": "code",
   "execution_count": 9,
   "metadata": {},
   "outputs": [
    {
     "data": {
      "text/plain": [
       "LinearRegression(copy_X=True, fit_intercept=True, n_jobs=1, normalize=True)"
      ]
     },
     "execution_count": 9,
     "metadata": {},
     "output_type": "execute_result"
    }
   ],
   "source": [
    "# create and fit multivariate model\n",
    "multivariate_regr = sklearn.linear_model.LinearRegression(normalize=True)\n",
    "multivariate_regr.fit(df.loc[:299, boston.feature_names], df.loc[:299, \"MEDV\"])"
   ]
  },
  {
   "cell_type": "code",
   "execution_count": 10,
   "metadata": {},
   "outputs": [
    {
     "name": "stdout",
     "output_type": "stream",
     "text": [
      "mean squared error 365.08230091432654\n",
      "coefficients [ 1.20125417  0.01484179  0.02355189  0.60206504 -8.82764179  9.1306223\n",
      " -0.04735918 -1.01328587  0.16786579 -0.01456734 -0.64183404  0.01677883\n",
      " -0.10976398]\n"
     ]
    }
   ],
   "source": [
    "# predict model\n",
    "multivariate_pred = multivariate_regr.predict(df.loc[300:, boston.feature_names])\n",
    "print(\"mean squared error\", sklearn.metrics.mean_squared_error(multivariate_pred, df.loc[300:, \"MEDV\"]))\n",
    "print(\"coefficients\", multivariate_regr.coef_)"
   ]
  },
  {
   "cell_type": "code",
   "execution_count": 11,
   "metadata": {},
   "outputs": [
    {
     "data": {
      "text/plain": [
       "<matplotlib.collections.PathCollection at 0x1a1b563588>"
      ]
     },
     "execution_count": 11,
     "metadata": {},
     "output_type": "execute_result"
    },
    {
     "data": {
      "image/png": "[encoded data removed]",
      "text/plain": [
       "<Figure size 432x288 with 1 Axes>"
      ]
     },
     "metadata": {},
     "output_type": "display_data"
    }
   ],
   "source": [
    "# plot predictions w.r.t. RM\n",
    "plt.scatter(df.loc[300:, [\"RM\"]], df.loc[300:, \"MEDV\"], color=\"black\") # true labels\n",
    "plt.scatter(df.loc[300:, [\"RM\"]], multivariate_pred, color=\"blue\") # predictions"
   ]
  },
  {
   "cell_type": "markdown",
   "metadata": {},
   "source": [
    "---\n",
    "Let's try expanding to second-order polynomial regression, while still using all of the features available as input to predict the value of a home (MEDV). Again, we can use the first 300 points as training, and test on the remaining 206, making sure to normalize first. Take a look at the mean squared error (MSE) and coefficient(s) for the feature(s), and a plot of how we did with respect to RM."
   ]
  },
  {
   "cell_type": "code",
   "execution_count": 12,
   "metadata": {},
   "outputs": [],
   "source": [
    "poly = sklearn.preprocessing.PolynomialFeatures(degree=2, include_bias=False)\n",
    "poly_feat = poly.fit_transform(df[boston.feature_names])"
   ]
  },
  {
   "cell_type": "code",
   "execution_count": 13,
   "metadata": {},
   "outputs": [
    {
     "data": {
      "text/plain": [
       "LinearRegression(copy_X=True, fit_intercept=True, n_jobs=1, normalize=True)"
      ]
     },
     "execution_count": 13,
     "metadata": {},
     "output_type": "execute_result"
    }
   ],
   "source": [
    "# create and fit polynomial model\n",
    "poly_regr = sklearn.linear_model.LinearRegression(normalize=True)\n",
    "poly_regr.fit(poly_feat[:300], df.loc[:299, \"MEDV\"])"
   ]
  },
  {
   "cell_type": "code",
   "execution_count": 14,
   "metadata": {},
   "outputs": [
    {
     "name": "stdout",
     "output_type": "stream",
     "text": [
      "mean squared error 5514346.828192484\n",
      "coefficients [-2.02082446e+01 -2.07658396e-01 -3.21185483e+00 -7.25802999e+00\n",
      "  3.88265224e+02  4.37523878e+01 -5.45886793e-01 -6.85912859e+00\n",
      " -3.30326193e+00 -7.19407741e-02 -1.70654454e+00  4.25288944e-01\n",
      "  3.72633917e+00  2.24804104e+00 -9.46256153e-02  2.94001297e-01\n",
      "  1.11751845e+00  1.84133905e+00 -2.90611655e-01 -1.33348729e-01\n",
      " -2.00378130e+00  2.63212274e+00 -2.99951275e-02  1.89485261e+00\n",
      " -5.44560592e-03 -3.77340820e-01 -1.66269516e-04  2.09377847e-03\n",
      " -2.21454825e-01  6.56269229e-01  8.65876528e-03 -4.68461020e-04\n",
      "  8.54027157e-03 -3.21357046e-03  1.97789436e-04 -1.71544646e-02\n",
      "  3.18818167e-04 -3.66178386e-04  2.09333453e-02 -9.38043146e-01\n",
      "  6.00062599e+00 -5.16165343e-02  5.79358859e-04  2.38050925e-01\n",
      " -7.18778402e-02  3.69555734e-03 -1.10094098e-01  1.48743122e-03\n",
      " -2.61216810e-02 -7.25802999e+00  3.50423701e+00 -3.26274345e+00\n",
      "  7.52065626e-03  3.39247558e+00 -2.09944482e+00  8.19116289e-02\n",
      " -7.34107140e-01  9.06357930e-02 -3.19668880e-01 -2.46310354e+02\n",
      " -3.39682852e+00  7.30504155e-01  2.37001173e+00  2.20034031e+00\n",
      " -1.60165371e-01 -6.55558075e+00 -2.01790457e-01  1.30905960e+00\n",
      " -4.86326957e-01 -2.62450519e-02 -7.33268486e-01  9.60887696e-02\n",
      "  2.03841770e-03  2.76055238e-02 -4.61629044e-02 -6.91525033e-01\n",
      " -7.93546389e-04  2.08933282e-02 -3.59908803e-03 -8.72312310e-05\n",
      "  5.58172631e-04  8.70028319e-04 -9.91439673e-05  3.22787691e-01\n",
      " -2.49933449e-01  2.56020077e-03  2.23465921e-01  3.06073619e-03\n",
      " -8.74978028e-02 -3.36727246e-01  5.87120256e-03  1.53522204e-01\n",
      "  3.94802161e-03  1.03572955e-01  9.77915480e-05  1.72019135e-03\n",
      " -7.06160910e-05 -1.45612012e-03  1.11239866e-01 -3.21282500e-03\n",
      "  4.24058640e-02 -8.37407553e-05  7.47280657e-05 -1.13564651e-02]\n"
     ]
    }
   ],
   "source": [
    "# predict model\n",
    "poly_pred = poly_regr.predict(poly_feat[300:])\n",
    "print(\"mean squared error\", sklearn.metrics.mean_squared_error(poly_pred, df.loc[300:, \"MEDV\"]))\n",
    "print(\"coefficients\", poly_regr.coef_)"
   ]
  },
  {
   "cell_type": "code",
   "execution_count": 15,
   "metadata": {},
   "outputs": [
    {
     "data": {
      "text/plain": [
       "<matplotlib.collections.PathCollection at 0x1a1b625438>"
      ]
     },
     "execution_count": 15,
     "metadata": {},
     "output_type": "execute_result"
    },
    {
     "data": {
      "image/png": "[encoded data removed]",
      "text/plain": [
       "<Figure size 432x288 with 1 Axes>"
      ]
     },
     "metadata": {},
     "output_type": "display_data"
    }
   ],
   "source": [
    "# plot predictions w.r.t. RM\n",
    "plt.scatter(df.loc[300:, [\"RM\"]], df.loc[300:, \"MEDV\"], color=\"black\") # true labels\n",
    "plt.scatter(df.loc[300:, [\"RM\"]], poly_pred, color=\"blue\") # predictions"
   ]
  },
  {
   "cell_type": "markdown",
   "metadata": {},
   "source": [
    "---\n",
    "Notice how in the previous example we overfit the data, since we had so many features! Let's try adding some regularization using ridge regression, while still using second-order polynomial regression and all of the features available as input to predict the value of a home (MEDV). Again, we can use the first 300 points as training, and test on the remaining 206, making sure to normalize first. Take a look at the mean squared error (MSE) and coefficient(s) for the feature(s), and a plot of how we did with respect to RM."
   ]
  },
  {
   "cell_type": "code",
   "execution_count": 16,
   "metadata": {},
   "outputs": [
    {
     "data": {
      "text/plain": [
       "Ridge(alpha=150, copy_X=True, fit_intercept=True, max_iter=None,\n",
       "   normalize=True, random_state=None, solver='auto', tol=0.001)"
      ]
     },
     "execution_count": 16,
     "metadata": {},
     "output_type": "execute_result"
    }
   ],
   "source": [
    "# create and fit regularized model\n",
    "regularized_regr = sklearn.linear_model.Ridge(normalize=True, alpha=150)\n",
    "regularized_regr.fit(poly_feat[:300], df.loc[:299, \"MEDV\"])"
   ]
  },
  {
   "cell_type": "code",
   "execution_count": 17,
   "metadata": {},
   "outputs": [
    {
     "name": "stdout",
     "output_type": "stream",
     "text": [
      "mean squared error 70.83493066859938\n",
      "coefficients [-1.34413465e-02  6.05412633e-04 -2.98552794e-03  1.55993520e-02\n",
      " -1.03538598e-01  6.96334338e-02 -4.51995474e-04  6.70648350e-04\n",
      "  1.61841519e-03 -2.22873411e-04 -1.06915527e-02  2.52521389e-04\n",
      " -5.90155939e-03 -4.65923369e-03  5.88460702e-03 -6.89572158e-04\n",
      " -8.06339716e-05 -1.87878258e-02 -1.10564854e-03 -1.46224658e-04\n",
      " -8.40412584e-03 -1.89609118e-03 -3.37726311e-05 -1.15894323e-03\n",
      " -3.07910111e-05 -1.26073923e-03  7.12231399e-06  9.62246327e-05\n",
      "  1.56143560e-03  1.58576324e-03  1.01312236e-04  1.71071600e-05\n",
      "  6.17769680e-05  1.45878788e-04  1.65289708e-06  3.26734263e-05\n",
      "  1.56165866e-06  2.44696072e-05 -9.23743632e-05  4.49668674e-04\n",
      " -3.89871288e-03 -3.40892161e-04 -2.57443974e-05 -1.48014550e-03\n",
      " -5.40475016e-04 -6.88482689e-06 -1.86975382e-04 -7.45686486e-06\n",
      " -2.03768049e-04  1.55993520e-02  1.33690329e-02  3.65256972e-03\n",
      "  9.06858317e-05  6.49773713e-03  1.89923638e-03  4.02201902e-05\n",
      "  7.92320150e-04  4.83383671e-05 -1.07891694e-03 -8.51423648e-02\n",
      "  2.39267376e-02 -6.55600337e-04 -3.76087631e-03 -2.68862808e-03\n",
      " -2.43916037e-04 -1.33936658e-02 -9.07292793e-05 -7.12392743e-03\n",
      "  5.20775906e-03 -3.33097639e-06  8.30655003e-04  1.42446717e-03\n",
      "  1.89033022e-05  8.76869147e-04  9.83180132e-05 -1.06006947e-03\n",
      " -4.08897861e-06 -1.24173152e-04 -3.90395544e-05 -1.39943923e-06\n",
      " -3.55040249e-05 -8.83054282e-07 -4.48063746e-05  2.43427272e-05\n",
      "  3.81987987e-05 -6.12348136e-06 -1.27040442e-04  3.58451817e-06\n",
      " -1.08065461e-03  2.98655525e-04 -8.13680790e-06 -1.82569317e-04\n",
      "  8.95556214e-06 -1.01017852e-03 -3.33834396e-07 -1.62290279e-05\n",
      " -3.18801381e-07 -1.47374876e-05 -3.07756723e-04 -9.67314539e-06\n",
      " -3.18179320e-04  4.55572569e-07 -1.48651870e-05 -1.55265140e-04]\n"
     ]
    }
   ],
   "source": [
    "# predict model\n",
    "regularized_pred = regularized_regr.predict(poly_feat[300:])\n",
    "print(\"mean squared error\", sklearn.metrics.mean_squared_error(regularized_pred, df.loc[300:, \"MEDV\"]))\n",
    "print(\"coefficients\", regularized_regr.coef_)"
   ]
  },
  {
   "cell_type": "code",
   "execution_count": 18,
   "metadata": {},
   "outputs": [
    {
     "data": {
      "text/plain": [
       "<matplotlib.collections.PathCollection at 0x1a1e91e588>"
      ]
     },
     "execution_count": 18,
     "metadata": {},
     "output_type": "execute_result"
    },
    {
     "data": {
      "image/png": "[encoded data removed]",
      "text/plain": [
       "<Figure size 432x288 with 1 Axes>"
      ]
     },
     "metadata": {},
     "output_type": "display_data"
    }
   ],
   "source": [
    "# plot predictions w.r.t. RM\n",
    "plt.scatter(df.loc[300:, [\"RM\"]], df.loc[300:, \"MEDV\"], color=\"black\") # true labels\n",
    "plt.scatter(df.loc[300:, [\"RM\"]], regularized_pred, color=\"blue\") # predictions"
   ]
  }
 ],
 "metadata": {
  "kernelspec": {
   "display_name": "Python 3",
   "language": "python",
   "name": "python3"
  },
  "language_info": {
   "codemirror_mode": {
    "name": "ipython",
    "version": 3
   },
   "file_extension": ".py",
   "mimetype": "text/x-python",
   "name": "python",
   "nbconvert_exporter": "python",
   "pygments_lexer": "ipython3",
   "version": "3.6.5"
  }
 },
 "nbformat": 4,
 "nbformat_minor": 2
}
